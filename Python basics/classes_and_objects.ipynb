{
 "cells": [
  {
   "cell_type": "code",
   "execution_count": null,
   "id": "a81238e6-c8bc-4c4e-aa18-2b7aa7e6e7d4",
   "metadata": {},
   "outputs": [],
   "source": [
    "# Zadanie 1: BankAccount\n",
    "# Napisz klasę BankAccount, która:\n",
    "# ma atrybuty: owner (właściciel) i balance (saldo, domyślnie 0),\n",
    "# ma metody:\n",
    "# deposit(amount) → wpłata na konto,\n",
    "# withdraw(amount) → wypłata z konta (jeśli wystarczy środków),\n",
    "# __str__ → czytelne wypisanie kont\n",
    "\n",
    "class BankAccount(): \n",
    "\n",
    "    def __init__(self, owner, balance = 0): \n",
    "        self.owner = owner\n",
    "        self.balance = balance\n",
    "\n",
    "    def deposit(self, amount): \n",
    "            self.balance = self.balance + amount \n",
    "            return 'Wpłacasz {} PLN. Twój obecny stan konta to: {}'.format(amount, self.balance)\n",
    "\n",
    "    def withdraw(self, amount): \n",
    "        if amount <= self.balance: \n",
    "            self.balance = self.balance - amount\n",
    "            return 'Wypłacasz {} PLN. Twój obecny stan konta to:  {}'.format(amount, self.balance)\n",
    "        else: \n",
    "            return 'Brak wystrczających środków'\n",
    "\n",
    "# Tworzenie obiektu klasy BankAccount\n",
    "my_bank_account = BankAccount(owner = 'Kamil', balance = 1000) \n",
    "\n",
    "# Użycie atrybutów\n",
    "print(my_bank_account.owner)\n",
    "print(my_bank_account.balance)\n",
    "\n",
    "# Wywoływanie metod\n",
    "print(my_bank_account.deposit(500))\n",
    "print(my_bank_account.withdraw(700))"
   ]
  },
  {
   "cell_type": "code",
   "execution_count": null,
   "id": "bc5f3fa0-33ae-4d59-968f-2ba623cf2e19",
   "metadata": {},
   "outputs": [],
   "source": []
  },
  {
   "cell_type": "code",
   "execution_count": null,
   "id": "6107bd71-ba54-4ed2-993d-d42d824ce711",
   "metadata": {},
   "outputs": [],
   "source": [
    "# Zadanie 2: Car\n",
    "# Napisz klasę Car, która:\n",
    "# ma atrybuty: brand, model, year, mileage (domyślnie 0),\n",
    "# ma metody:\n",
    "# drive(km) → zwiększa mileage o podane kilometry,\n",
    "# info() → zwraca tekst z opisem auta.\n",
    "\n",
    "class Car: \n",
    "\n",
    "    def __init__(self, brand, model, year, mileage=0):\n",
    "\n",
    "        self.brand=brand\n",
    "        self.model=model\n",
    "        self.year=year\n",
    "        self.mileage=mileage\n",
    "\n",
    "    def drive(self, km):\n",
    "        self.mileage += km\n",
    "        return 'The current mileage is: {}'.format(self.mileage) \n",
    "\n",
    "    def info(self): \n",
    "        return 'The other info about the car: brand: {}, model: {}, year: {}'.format(self.brand, self.model, self.year)  "
   ]
  },
  {
   "cell_type": "code",
   "execution_count": null,
   "id": "542920bc-9ef5-4c30-a387-dae3c223cc77",
   "metadata": {},
   "outputs": [],
   "source": []
  },
  {
   "cell_type": "code",
   "execution_count": null,
   "id": "4f246cf2-71a2-4ff9-846f-d089b959e73c",
   "metadata": {},
   "outputs": [],
   "source": [
    "# Zadanie 3: Student\n",
    "# Napisz klasę Student, która:\n",
    "# ma atrybuty: name, grades (lista ocen, początkowo pusta),\n",
    "# ma metody:\n",
    "# add_grade(grade) → dodaje ocenę do listy,\n",
    "# average() → zwraca średnią ocen,\n",
    "# __str__ → zwraca Student: imię, średnia: X\n",
    "\n",
    "class Student: \n",
    "\n",
    "    def __init__(self,name, grades=None):    \n",
    "        \n",
    "        self.name = name\n",
    "\n",
    "        if grades is None:    \n",
    "            grades = []\n",
    "            \n",
    "        self.grades = grades\n",
    "\n",
    "    def add_grade(self, grade):\n",
    "        self.grades.append(grade)\n",
    "\n",
    "    def average(self): \n",
    "        return sum(self.grades)/len(self.grades)\n",
    "\n",
    "    def __str__(self): \n",
    "        return 'Student: {}, średnia: {}'.format(self.name, self.average())\n",
    "        "
   ]
  },
  {
   "cell_type": "code",
   "execution_count": null,
   "id": "0b53207d-83c3-4653-bd78-028a911dea8f",
   "metadata": {},
   "outputs": [],
   "source": []
  },
  {
   "cell_type": "code",
   "execution_count": 1,
   "id": "815ca123-e4ed-4d0b-b061-0fa5e0018061",
   "metadata": {},
   "outputs": [],
   "source": [
    "''' Zadanie 4. Klasa Osoba \n",
    "\n",
    "1. Napisz klasę Osoba, która ma atrybuty:\n",
    "imie (przechowuje imię osoby),\n",
    "wiek (przechowuje wiek osoby),\n",
    "wzrost (przechowuje wzrost osoby w metrach),\n",
    "plec ('M' dla mężczyzny i 'K' dla kobiety).\n",
    "\n",
    "2. W klasie zaimplementuj metody:\n",
    "wypisz() – wyświetla dane osoby (imię, wiek, wzrost, płeć),\n",
    "is_adult() – zwraca True jeśli osoba ma 18 lat lub więcej, w przeciwnym razie False.\n",
    "\n",
    "3. Utwórz cztery obiekty klasy Osoba z wybranymi wartościami i wyświetl ich dane przy pomocy metody wypisz.\n",
    "\n",
    "4. Napisz funkcję srednia(a, b, c, d), która przyjmuje cztery argumenty typu float i zwraca ich średnią arytmetyczną.\n",
    "\n",
    "5. Skorzystaj z funkcji srednia, aby obliczyć i wyświetlić średni wzrost czterech osób. '''\n",
    "\n",
    "class Osoba: \n",
    "    def __init__(self, imie, wiek, wzrost, plec):\n",
    "        self.imie=imie\n",
    "        self.wiek=wiek\n",
    "        self.wzrost=wzrost\n",
    "        self.plec=plec\n",
    "\n",
    "    def wypisz(self): \n",
    "        print(\"Imię: {}, wiek: {}, wzrost: {}, płeć: {}\".format(self.imie, self.wiek, self.wzrost, self.plec))\n",
    "\n",
    "    def is_adult(self): \n",
    "        if self.wiek >= 18: \n",
    "            return True\n",
    "        else: \n",
    "            return False        "
   ]
  },
  {
   "cell_type": "code",
   "execution_count": 2,
   "id": "78812892-9022-466a-8c3e-81f235212896",
   "metadata": {},
   "outputs": [],
   "source": [
    "o1 = Osoba('Adam', 16, 180, 'M')\n",
    "o2 = Osoba('Anna', 19, 170, 'K')\n",
    "o3 = Osoba('Mariusz', 30, 189, 'M')\n",
    "o4 = Osoba('Malwina', 25, 167, 'K')"
   ]
  },
  {
   "cell_type": "code",
   "execution_count": 3,
   "id": "a7eda718-2966-437b-9ee1-e1254e08bdc0",
   "metadata": {},
   "outputs": [
    {
     "name": "stdout",
     "output_type": "stream",
     "text": [
      "Imię: Adam, wiek: 16, wzrost: 180, płeć: M\n",
      "Imię: Anna, wiek: 19, wzrost: 170, płeć: K\n",
      "Imię: Mariusz, wiek: 30, wzrost: 189, płeć: M\n",
      "Imię: Malwina, wiek: 25, wzrost: 167, płeć: K\n"
     ]
    }
   ],
   "source": [
    "o1.wypisz()\n",
    "o2.wypisz()\n",
    "o3.wypisz()\n",
    "o4.wypisz()"
   ]
  },
  {
   "cell_type": "code",
   "execution_count": 4,
   "id": "fa4a9042-3381-492a-9be3-0508344a58be",
   "metadata": {},
   "outputs": [],
   "source": [
    "def srednia(a,b,c,d): \n",
    "    return (a+b+c+d)/4"
   ]
  },
  {
   "cell_type": "code",
   "execution_count": 5,
   "id": "d72e7554-9a5f-4647-9efa-6cb8e90fe9d4",
   "metadata": {},
   "outputs": [
    {
     "name": "stdout",
     "output_type": "stream",
     "text": [
      "Średni wiek osób: \n"
     ]
    },
    {
     "data": {
      "text/plain": [
       "22.5"
      ]
     },
     "execution_count": 5,
     "metadata": {},
     "output_type": "execute_result"
    }
   ],
   "source": [
    "print(\"Średni wiek osób: \") \n",
    "srednia(o1.wiek, o2.wiek, o3.wiek, o4.wiek)"
   ]
  },
  {
   "cell_type": "code",
   "execution_count": null,
   "id": "19702c6a-0f73-43f4-b8ce-019b8a50ab3f",
   "metadata": {},
   "outputs": [],
   "source": []
  },
  {
   "cell_type": "code",
   "execution_count": 6,
   "id": "815c66ca-ccca-483a-8136-bc11c41b12a5",
   "metadata": {},
   "outputs": [],
   "source": [
    "''' Zadanie 5: Klasa Library i metody specjalne\n",
    "\n",
    "1. Stwórz klasę Book z atrybutami: title, author, pages.\n",
    "Dodaj __str__ → \"Title by Author\"\n",
    "Dodaj __len__ → zwraca liczbę stron.\n",
    "\n",
    "2. Stwórz klasę Library, która przechowuje listę książek.\n",
    "Dodaj __init__, który przyjmuje listę książek.\n",
    "Dodaj __len__, które zwróci liczbę książek w bibliotece.\n",
    "Dodaj __getitem__, aby można było pobierać książki po indeksie (library[0]).\n",
    "Dodaj __str__, aby zwracała \"Library with X books\". '''\n",
    "\n",
    "class Book: \n",
    "\n",
    "    def __init__(self, title, author, pages): \n",
    "        self.title = title \n",
    "        self.author = author\n",
    "        self.pages = pages \n",
    "\n",
    "    def __str__(self): \n",
    "        return \"{} by {}\".format(self.title, self.author)\n",
    "\n",
    "    def __len__(self): \n",
    "        return self.pages\n",
    "\n",
    "class Library: \n",
    "\n",
    "    def __init__(self, books = None): \n",
    "        if books is None: \n",
    "            books = []\n",
    "        self.books = books\n",
    "\n",
    "    def __len__(self):\n",
    "        return len(self.books) \n",
    "\n",
    "    def __getitem__(self, index):\n",
    "        return self.books[index]\n",
    "\n",
    "    def __str__(self): \n",
    "        return \"Library with {} books.\".format(len(self.books))"
   ]
  },
  {
   "cell_type": "code",
   "execution_count": 7,
   "id": "ab7e98d7-1667-4c8e-a8f6-1c1b92362958",
   "metadata": {},
   "outputs": [],
   "source": [
    "# Tworzymy książki: \n",
    "\n",
    "b1 = Book(\"Python\", \"David\", 250)\n",
    "b2 = Book(\"ML\", \"Tom\", 200)\n",
    "b3 = Book(\"Math\", \"Adam\", 480)\n",
    "b4 = Book(\"Finance\", \"Carol\", 360)"
   ]
  },
  {
   "cell_type": "code",
   "execution_count": 8,
   "id": "dda29a15-ca70-43bf-9631-6c9185e4d0f2",
   "metadata": {},
   "outputs": [
    {
     "data": {
      "text/plain": [
       "'Python by David'"
      ]
     },
     "execution_count": 8,
     "metadata": {},
     "output_type": "execute_result"
    }
   ],
   "source": [
    "# Testujemy metody: \n",
    "\n",
    "str(b1)"
   ]
  },
  {
   "cell_type": "code",
   "execution_count": 9,
   "id": "b81f4462-3e8d-44d8-acfd-691d37eac04f",
   "metadata": {},
   "outputs": [
    {
     "data": {
      "text/plain": [
       "360"
      ]
     },
     "execution_count": 9,
     "metadata": {},
     "output_type": "execute_result"
    }
   ],
   "source": [
    "len(b4)"
   ]
  },
  {
   "cell_type": "code",
   "execution_count": 10,
   "id": "1d6c0972-72d9-48ac-89e2-010e259d495f",
   "metadata": {},
   "outputs": [],
   "source": [
    "# Tworzymy bibliotekę z powyższych książek\n",
    "books = [b1,b2,b3,b4] "
   ]
  },
  {
   "cell_type": "code",
   "execution_count": 11,
   "id": "03528f5c-266a-473d-9611-be31cc0880aa",
   "metadata": {},
   "outputs": [
    {
     "data": {
      "text/plain": [
       "4"
      ]
     },
     "execution_count": 11,
     "metadata": {},
     "output_type": "execute_result"
    }
   ],
   "source": [
    "len(books)"
   ]
  },
  {
   "cell_type": "code",
   "execution_count": 12,
   "id": "2f6b4b60-ede8-46f1-889e-6b948d81ef34",
   "metadata": {},
   "outputs": [],
   "source": [
    "lib = Library(books)"
   ]
  },
  {
   "cell_type": "code",
   "execution_count": 13,
   "id": "6cd2db04-9e05-432a-b9f0-dde523b760ce",
   "metadata": {},
   "outputs": [
    {
     "data": {
      "text/plain": [
       "4"
      ]
     },
     "execution_count": 13,
     "metadata": {},
     "output_type": "execute_result"
    }
   ],
   "source": [
    "len(lib)"
   ]
  },
  {
   "cell_type": "code",
   "execution_count": 14,
   "id": "13ed1daa-936b-4903-8359-c5861d568a5f",
   "metadata": {},
   "outputs": [
    {
     "name": "stdout",
     "output_type": "stream",
     "text": [
      "ML by Tom\n"
     ]
    }
   ],
   "source": [
    "print(lib.__getitem__(1))"
   ]
  },
  {
   "cell_type": "code",
   "execution_count": 15,
   "id": "2b9ab074-96b9-4895-afbc-3d4a6e9dcde2",
   "metadata": {},
   "outputs": [
    {
     "data": {
      "text/plain": [
       "'Library with 4 books.'"
      ]
     },
     "execution_count": 15,
     "metadata": {},
     "output_type": "execute_result"
    }
   ],
   "source": [
    "str(lib)"
   ]
  },
  {
   "cell_type": "code",
   "execution_count": null,
   "id": "14fe097a-c89a-4cfa-adcd-0b8b10e692eb",
   "metadata": {},
   "outputs": [],
   "source": []
  }
 ],
 "metadata": {
  "kernelspec": {
   "display_name": "Python 3 (ipykernel)",
   "language": "python",
   "name": "python3"
  },
  "language_info": {
   "codemirror_mode": {
    "name": "ipython",
    "version": 3
   },
   "file_extension": ".py",
   "mimetype": "text/x-python",
   "name": "python",
   "nbconvert_exporter": "python",
   "pygments_lexer": "ipython3",
   "version": "3.11.9"
  }
 },
 "nbformat": 4,
 "nbformat_minor": 5
}
