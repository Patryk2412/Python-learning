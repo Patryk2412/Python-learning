{
 "cells": [
  {
   "cell_type": "code",
   "execution_count": 2,
   "id": "2b7f6b81-d92d-41b4-b3ea-ecbd942606cc",
   "metadata": {},
   "outputs": [
    {
     "name": "stdin",
     "output_type": "stream",
     "text": [
      "Podaj liczb naturalną:  9\n"
     ]
    },
    {
     "name": "stdout",
     "output_type": "stream",
     "text": [
      "Suma:  7\n"
     ]
    }
   ],
   "source": [
    "# 1. Napisz program, w którym użytkownik podaje na początku jakąś liczbę naturalną. \n",
    "# a) program oblicza sumę wszystkich liczb naturalnych podzielnych przez 7 i mniejszych od podanej przez użytkownika liczby \n",
    "liczba = int(input(\"Podaj liczb naturalną: \"))\n",
    "\n",
    "suma = 0\n",
    "\n",
    "for i in range(1,liczba): \n",
    "    if i%7 == 0: \n",
    "        suma = suma+i\n",
    "\n",
    "print(\"Suma: \", suma)"
   ]
  },
  {
   "cell_type": "code",
   "execution_count": 1,
   "id": "fffb4d88-7e3c-425d-9a02-d426f31c574d",
   "metadata": {},
   "outputs": [
    {
     "name": "stdin",
     "output_type": "stream",
     "text": [
      "Podaj liczbę:  700\n"
     ]
    },
    {
     "name": "stdout",
     "output_type": "stream",
     "text": [
      "Jest ich:  63\n"
     ]
    }
   ],
   "source": [
    "# b) program oblicza ile jest wszystkich liczb naturalnych podzielnych przez 11 i mniejszych od podanej przez użytkownika liczby\n",
    "\n",
    "liczba = int(input(\"Podaj liczbę: \"))\n",
    "suma = 0\n",
    "\n",
    "for i in range(1, liczba): \n",
    "    if i%11 == 0: \n",
    "        suma = suma+1\n",
    "\n",
    "print(\"Jest ich: \", suma) "
   ]
  },
  {
   "cell_type": "code",
   "execution_count": null,
   "id": "2aaa9fb1-a500-448b-a8f1-4624a08d381f",
   "metadata": {},
   "outputs": [],
   "source": []
  },
  {
   "cell_type": "code",
   "execution_count": 2,
   "id": "c4c18c39-3836-4070-b475-b84c3f20fe4a",
   "metadata": {},
   "outputs": [
    {
     "name": "stdin",
     "output_type": "stream",
     "text": [
      "Podaj liczbę całkowitą:  6\n",
      "Podaj liczbę całkowitą:  6\n",
      "Podaj liczbę całkowitą:  9\n",
      "Podaj liczbę całkowitą:  0\n"
     ]
    },
    {
     "name": "stdout",
     "output_type": "stream",
     "text": [
      "Suma podanych liczb:  21\n",
      "Średnia arytmetyczna podanych liczb:  7.0\n"
     ]
    }
   ],
   "source": [
    "# 2. Napisz program, w którym użytkownik podaje kolejne liczby całkowite. Program kończy \n",
    "# pobieranie danych od użytkownika jeśli wpisze on wartość 0 (nie jest ona wliczana do danych). W \n",
    "# następnej kolejności program powinien wyświetlić na ekranie sumę wszystkich wprowadzonych liczb \n",
    "# oraz ich średnią arytmetyczną. Jeśli już jako pierwszą liczbę wprowadzono 0, to program powinien \n",
    "# wyświetlić na ekranie stosowny komunikat. \n",
    "\n",
    "suma = 0\n",
    "ile = 0\n",
    "\n",
    "liczba = int(input(\"Podaj liczbę całkowitą: \")) \n",
    "if liczba == 0: \n",
    "        print(\"Podałeś 0. Koniec programu. \")\n",
    "else: \n",
    "        while liczba != 0: \n",
    "            suma=suma+liczba\n",
    "            ile=ile+1\n",
    "            \n",
    "            liczba = int(input(\"Podaj liczbę całkowitą: \"))\n",
    "            \n",
    "        print(\"Suma podanych liczb: \", suma)\n",
    "        print(\"Średnia arytmetyczna podanych liczb: \", suma/ile)\n",
    "            \n",
    "    \n"
   ]
  },
  {
   "cell_type": "code",
   "execution_count": null,
   "id": "408edd5d-4c80-4e3d-975a-21270cecdae1",
   "metadata": {},
   "outputs": [],
   "source": []
  },
  {
   "cell_type": "code",
   "execution_count": 3,
   "id": "0fb44136-1eb3-490d-9cba-25cd141b9f40",
   "metadata": {},
   "outputs": [
    {
     "name": "stdin",
     "output_type": "stream",
     "text": [
      "Podaj liczbę naturalną:  9\n"
     ]
    },
    {
     "name": "stdout",
     "output_type": "stream",
     "text": [
      "Podana liczba ma  1  cyfr\n"
     ]
    }
   ],
   "source": [
    "# 3.  Napisz program, w którym użytkownik podaje dowolną liczbę naturalną, a program wyświetla na ekranie ile podana liczba ma cyfr. \n",
    "\n",
    "ile = 0\n",
    "\n",
    "liczba = int(input('Podaj liczbę naturalną: '))\n",
    "\n",
    "while liczba > 0: \n",
    "        liczba = liczba // 10     # Dzielenie całkowite\n",
    "        ile=ile+1\n",
    "\n",
    "print(\"Podana liczba ma \", ile, \" cyfr\")"
   ]
  },
  {
   "cell_type": "code",
   "execution_count": null,
   "id": "42ec2613-a836-43ac-9815-5fc61785121b",
   "metadata": {},
   "outputs": [],
   "source": []
  },
  {
   "cell_type": "code",
   "execution_count": 4,
   "id": "0bb2fcf4-dfd9-493a-a748-f90e44c2a19e",
   "metadata": {},
   "outputs": [
    {
     "name": "stdin",
     "output_type": "stream",
     "text": [
      "Podaj liczbę naturalną:  -5\n"
     ]
    },
    {
     "name": "stdout",
     "output_type": "stream",
     "text": [
      "Nie da się policzyć silni z liczby ujemnej\n"
     ]
    }
   ],
   "source": [
    "# 4.  Napisz program, który obliczy i wyświetli na ekranie wartość silni liczby podanej przez użytkownika (pamiętaj, że 0! = 1).\n",
    "\n",
    "iloczyn = 1\n",
    "liczba = int(input('Podaj liczbę naturalną: ')) \n",
    "\n",
    "if liczba == 0: \n",
    "    print(liczba, '! = ',1)\n",
    "elif liczba < 0: \n",
    "    print('Nie da się policzyć silni z liczby ujemnej')\n",
    "else: \n",
    "    for i in range (1,liczba-+1,1): \n",
    "        iloczyn=iloczyn*i\n",
    "\n",
    "    print(liczba, '! = ', iloczyn)\n",
    "    "
   ]
  },
  {
   "cell_type": "code",
   "execution_count": null,
   "id": "323151d2-1b66-497b-8002-33fc15c22fab",
   "metadata": {},
   "outputs": [],
   "source": []
  },
  {
   "cell_type": "code",
   "execution_count": 6,
   "id": "17ff4d03-55b2-4b0b-b427-eb2a1f7a8471",
   "metadata": {},
   "outputs": [
    {
     "name": "stdin",
     "output_type": "stream",
     "text": [
      "Podaj początek przedziału:  1\n",
      "Podaj koniec przedziału:  10\n"
     ]
    },
    {
     "name": "stdout",
     "output_type": "stream",
     "text": [
      "Liczby podzielne przez 4 z przedziału [ 1 , 10 ]:\n",
      "4\n",
      "8\n",
      "Takich liczb jest:  2\n"
     ]
    }
   ],
   "source": [
    "# 5. Napisz program, w którym użytkownik podaje dwie liczby naturalne (a i b) , a program wyświetla \n",
    "# na ekranie wszystkie liczby podzielne przez 4 z przedziału <a, b> oraz podaje ile ich jest. \n",
    "\n",
    "a = int(input('Podaj początek przedziału: '))\n",
    "b = int(input('Podaj koniec przedziału: '))\n",
    "ile = 0\n",
    "\n",
    "print('Liczby podzielne przez 4 z przedziału [', a, ',',b,']:')\n",
    "for i in range (a,b+1,1):\n",
    "    if i%4 == 0: \n",
    "        ile=ile+1\n",
    "        print(i)\n",
    "\n",
    "print('Takich liczb jest: ', ile)"
   ]
  },
  {
   "cell_type": "code",
   "execution_count": null,
   "id": "87c53381-deda-4fbc-84ac-c02f6f82d290",
   "metadata": {},
   "outputs": [],
   "source": []
  }
 ],
 "metadata": {
  "kernelspec": {
   "display_name": "Python 3 (ipykernel)",
   "language": "python",
   "name": "python3"
  },
  "language_info": {
   "codemirror_mode": {
    "name": "ipython",
    "version": 3
   },
   "file_extension": ".py",
   "mimetype": "text/x-python",
   "name": "python",
   "nbconvert_exporter": "python",
   "pygments_lexer": "ipython3",
   "version": "3.11.9"
  }
 },
 "nbformat": 4,
 "nbformat_minor": 5
}
