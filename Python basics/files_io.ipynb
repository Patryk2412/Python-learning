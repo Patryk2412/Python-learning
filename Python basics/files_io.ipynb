{
 "cells": [
  {
   "cell_type": "code",
   "execution_count": 2,
   "id": "e43790d3-39e0-41a9-ad7a-00d03bbc56fe",
   "metadata": {},
   "outputs": [],
   "source": [
    "# Ćwiczenia: Otwieranie i praca z plikami"
   ]
  },
  {
   "cell_type": "code",
   "execution_count": null,
   "id": "d2afdeea-0b19-4eb7-b478-783f08078255",
   "metadata": {},
   "outputs": [],
   "source": [
    "''' 1. Odczyt całego pliku\n",
    "Napisz program, który:\n",
    "otwiera plik sample.txt w trybie \"r\",\n",
    "odczytuje całą zawartość metodą .read(),\n",
    "wypisuje tekst na ekran,\n",
    "zamyka plik metodą .close(). ''' \n",
    "\n",
    "file = open(\"sample.txt\", \"r\")\n",
    "content = file.read()    # wczytaj zawartość do zmiennej\n",
    "print(content)        # wypisz zawartość\n",
    "file.close()"
   ]
  },
  {
   "cell_type": "code",
   "execution_count": null,
   "id": "64cc743c-77c9-45e7-9205-d5fe70037c86",
   "metadata": {},
   "outputs": [],
   "source": []
  },
  {
   "cell_type": "code",
   "execution_count": null,
   "id": "e83ca28b-cc89-4f91-9c4f-bd0043598df5",
   "metadata": {},
   "outputs": [],
   "source": [
    "''' 2. Odczyt linii po linii\n",
    "\n",
    "Napisz program, który:\n",
    "otwiera plik sample.txt,\n",
    "używa .readline() do odczytu pierwszej linii,\n",
    "potem jeszcze raz .readline() do odczytu drugiej linii,\n",
    "zamyka plik. ''' \n",
    "\n",
    "file = open(\"sample.txt\", \"r\") \n",
    "\n",
    "line1 = file.readline()  # Pierwsza linia\n",
    "line2 = file.readline()  # Druga linia\n",
    "\n",
    "print(\"Pierwsza linia:\", line1)\n",
    "print(\"Druga linia:\", line2)\n",
    "\n",
    "file.close()"
   ]
  },
  {
   "cell_type": "code",
   "execution_count": null,
   "id": "ce47ad51-700c-43ae-91d7-de4196d8fdb2",
   "metadata": {},
   "outputs": [],
   "source": []
  },
  {
   "cell_type": "code",
   "execution_count": null,
   "id": "bb09ba47-9e7b-483c-93ae-7f4960c20672",
   "metadata": {},
   "outputs": [],
   "source": [
    "''' 3. Licznik linii\n",
    "\n",
    "Napisz program, który:\n",
    "otwiera plik,\n",
    "wczytuje wszystkie linie .readlines(),\n",
    "wypisuje, ile jest ich w pliku (len(...)),\n",
    "zamyka plik.  '''\n",
    "\n",
    "filename = input(\"Podaj nazwę pliku: \")\n",
    "\n",
    "file = open(filename, \"r\") \n",
    "\n",
    "lines = file.readlines() # tworzymy listę, której każdy element to jedna linijka pliku \n",
    "\n",
    "number = len(lines) \n",
    "\n",
    "print(\"Liczba linii w pliku: \", number) \n",
    "\n",
    "file.close()"
   ]
  },
  {
   "cell_type": "code",
   "execution_count": null,
   "id": "161c2d46-31d1-432c-ac7d-b07907acbea1",
   "metadata": {},
   "outputs": [],
   "source": []
  },
  {
   "cell_type": "code",
   "execution_count": null,
   "id": "419c17c3-cbb8-4cff-8862-d1c2c6f92b5b",
   "metadata": {},
   "outputs": [],
   "source": [
    "''' 4. Zapis do pliku\n",
    "\n",
    "Napisz program, który:\n",
    "otwiera plik output.txt w trybie \"w\",\n",
    "zapisuje do niego dwie linie tekstu (.write(\"...\")),\n",
    "zamyka plik,\n",
    "otwiera go ponownie w trybie \"r\" i wypisuje zawartość. ''' \n",
    "\n",
    "# Zapis do pliku\n",
    "file = open(\"output.txt\", \"w\") \n",
    "file.write(\"1 linia\\n\")\n",
    "file.write(\"2 linia\\n\") \n",
    "file.close() \n",
    "\n",
    "# Odczyt z pliku\n",
    "file = open(\"output.txt\", \"r\") \n",
    "lines = file.readlines()\n",
    "\n",
    "print(\"Zawartość pliku: \") \n",
    "print(lines) \n",
    "\n",
    "file.close()"
   ]
  },
  {
   "cell_type": "code",
   "execution_count": null,
   "id": "20f404d1-ea9f-4bcb-b3f3-7bcede0b0400",
   "metadata": {},
   "outputs": [],
   "source": []
  },
  {
   "cell_type": "code",
   "execution_count": null,
   "id": "b68af389-c8a5-4d53-a748-995c740adbbb",
   "metadata": {},
   "outputs": [],
   "source": [
    "''' 5. Dopisywanie do pliku\n",
    "\n",
    "Napisz program, który:\n",
    "otwiera output.txt w trybie \"a\",\n",
    "dopisuje jedną nową linię,\n",
    "zamyka plik,\n",
    "ponownie otwiera go w trybie \"r\" i wypisuje całą zawartość. ''' \n",
    "\n",
    "file = open(\"output.txt\", \"a\") \n",
    "file.write(\"Dopisana linia\\n\") \n",
    "\n",
    "file.close() \n",
    "\n",
    "file = open(\"output.txt\", \"r\") \n",
    "lines = file.readlines() \n",
    "\n",
    "print(\"Zawartość pliku: \")\n",
    "print(lines) \n",
    "\n",
    "file.close() "
   ]
  },
  {
   "cell_type": "code",
   "execution_count": null,
   "id": "29c61783-4824-47cc-8b74-0240c2aa115a",
   "metadata": {},
   "outputs": [],
   "source": []
  },
  {
   "cell_type": "code",
   "execution_count": null,
   "id": "2e0334d7-849e-4594-be4d-2bca6c27c1b0",
   "metadata": {},
   "outputs": [],
   "source": []
  }
 ],
 "metadata": {
  "kernelspec": {
   "display_name": "Python 3 (ipykernel)",
   "language": "python",
   "name": "python3"
  },
  "language_info": {
   "codemirror_mode": {
    "name": "ipython",
    "version": 3
   },
   "file_extension": ".py",
   "mimetype": "text/x-python",
   "name": "python",
   "nbconvert_exporter": "python",
   "pygments_lexer": "ipython3",
   "version": "3.11.9"
  }
 },
 "nbformat": 4,
 "nbformat_minor": 5
}
