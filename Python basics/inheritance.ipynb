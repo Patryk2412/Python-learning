{
 "cells": [
  {
   "cell_type": "code",
   "execution_count": 1,
   "id": "3aed07af-8c02-442a-aaa3-e7a3f2ed5d50",
   "metadata": {},
   "outputs": [],
   "source": [
    "''' Zadanie 1. Napisz prostą hierarchię klas reprezentującą pojazdy.\n",
    " \n",
    " Wymagania:\n",
    " \n",
    " Klasa bazowa Vehicle\n",
    " atrybuty: brand, year, mileage (domyślnie 0)\n",
    " metoda:\n",
    " drive(km) → zwiększa przebieg o km.\n",
    " __str__ → zwraca \"Brand (Year), mileage: X km\".\n",
    " \n",
    "Klasa pochodna Car(Vehicle)\n",
    " dodatkowy atrybut: fuel (np. \"diesel\", \"petrol\", \"electric\")\n",
    " nadpisz metodę __str__, aby dodawała info o rodzaju paliwa. \n",
    "\n",
    "Klasa pochodna ElectricCar(Car) \n",
    "dodatkowy atrybut: battery_range (zasięg w km)\n",
    "metoda: charge() → wypisuje \"The car is charging...\".\n",
    "nadpisz metodę __str__, aby dodawała info o baterii. ''' \n",
    "\n",
    "class Vehicle: \n",
    "\n",
    "    def __init__(self, brand, year, mileage=0): \n",
    "        self.brand = brand\n",
    "        self.year = year\n",
    "        self.mileage = mileage \n",
    "\n",
    "    def drive(self, km): \n",
    "        self.mileage += km\n",
    "\n",
    "    def __str__(self): \n",
    "        return \"{} ({}), mileage: {} km\".format(self.brand, self.year, self.mileage)\n",
    "\n",
    "veh = Vehicle('Audi', 2000, 20000)\n",
    "\n",
    "class Car(Vehicle): \n",
    "\n",
    "    def __init__(self, brand, year, mileage=0, fuel='petrol'): \n",
    "                                                                \n",
    "        Vehicle.__init__(self, brand, year, mileage) \n",
    "        self.fuel = fuel\n",
    "\n",
    "    def __str__(self):\n",
    "        return \"{} ({}), mileage: {} km, fuel: {}\".format(self.brand, self.year, self.mileage, self.fuel)\n",
    "\n",
    "class ElectricCar(Car): \n",
    "\n",
    "    def __init__(self, brand, year, battery_range, mileage=0, fuel='petrol'): \n",
    "        Car.__init__(self, brand, year, mileage, fuel)\n",
    "        self.battery_range = battery_range \n",
    "\n",
    "    def charge(self): \n",
    "        return \"The car is charging\"\n",
    "\n",
    "    def __str__(self):\n",
    "        return \"{} ({}), mileage: {} km, fuel: {}, battery range: {}.\".format(self.brand, self.year, self.mileage, self.fuel, self.battery_range)"
   ]
  },
  {
   "cell_type": "code",
   "execution_count": null,
   "id": "8b2d18f6-cbff-4e37-8418-5a070b5b751f",
   "metadata": {},
   "outputs": [],
   "source": []
  },
  {
   "cell_type": "code",
   "execution_count": 5,
   "id": "d19f8c7d-1a63-4938-bff6-3e512f8baed1",
   "metadata": {},
   "outputs": [],
   "source": [
    "'''Zadanie 2. Klasa Osoba i klasy pochodne\n",
    "\n",
    "1. Napisz klasę Osoba, która ma publiczne atrybuty:\n",
    "imie, wiek, wzrost, plec ('M' lub 'K').\n",
    "\n",
    "Zaimplementuj metody:\n",
    "wypisz() – wyświetla dane osoby,\n",
    "is_adult() – zwraca True, jeśli osoba ma 18 lat lub więcej.\n",
    "\n",
    "2. Napisz klasę pochodną Student(Osoba), która ma dodatkowe atrybuty:\n",
    "uczelnia, rok (rok studiów).\n",
    "\n",
    "Nadpisz metodę wypisz(), aby oprócz danych osoby wypisywała dane studenta.\n",
    "\n",
    "3. Napisz klasę pochodną Pracownik(Osoba), która ma dodatkowe atrybuty:\n",
    "stanowisko, pensja.\n",
    "\n",
    "Nadpisz metodę wypisz(), aby oprócz danych osoby wypisywała dane pracownika.\n",
    "\n",
    "4. Utwórz po 2 obiekty każdej klasy i wypisz ich dane.\n",
    "\n",
    "5. Napisz funkcję srednia_wzrostu(lista_osob), która przyjmuje listę obiektów klasy Osoba (i jej pochodnych) i zwraca średni wzrost. '''\n",
    "\n",
    "class Osoba: \n",
    "    def __init__(self, imie, wiek, wzrost, plec): \n",
    "        self.imie=imie\n",
    "        self.wiek=wiek\n",
    "        self.wzrost=wzrost\n",
    "        self.plec=plec\n",
    "\n",
    "    def wypisz(self): \n",
    "        print(\"Imię: {}, wiek: {}, wzrost: {}, płeć: {}\".format(self.imie, self.wiek, self.wzrost, self.plec))\n",
    "\n",
    "    def is_adult(self): \n",
    "        if self.wiek >= 18: \n",
    "            return True\n",
    "        else: \n",
    "            return False\n",
    "\n",
    "class Student(Osoba): \n",
    "    def __init__(self, imie, wiek, wzrost, plec, uczelnia, rok): \n",
    "        Osoba.__init__(self, imie, wiek, wzrost, plec)\n",
    "        self.uczelnia=uczelnia\n",
    "        self.rok=rok\n",
    "\n",
    "    def wypisz(self): \n",
    "        print(\"Imię: {}, wiek: {}, wzrost: {}, płeć: {}, uczelnia: {}, rok: {}\".format(self.imie, self.wiek, self.wzrost, self.plec, self.uczelnia,\n",
    "                                                                                      self.rok))\n",
    "\n",
    "class Pracownik(Osoba): \n",
    "    def __init__(self, imie, wiek, wzrost, plec, stanowisko, pensja): \n",
    "        Osoba.__init__(self, imie, wiek, wzrost, plec)\n",
    "        self.stanowisko=stanowisko\n",
    "        self.pensja=pensja\n"
   ]
  },
  {
   "cell_type": "code",
   "execution_count": 6,
   "id": "6745b00c-036b-4801-a1a7-724ca92c594e",
   "metadata": {},
   "outputs": [],
   "source": [
    "o1 = Osoba('Kamil', 32, 181, 'M')\n",
    "o2 = Osoba('Julia', 24, 169, 'K')\n",
    "s1 = Student('Weronika', 25, 163, 'K', 'PW', 2)\n",
    "s2 = Student('Ola', 22, 175, 'K', 'UW', 3)\n",
    "p1 = Pracownik('Borys', 18, 176, 'M', 'Sprzedawca', 5500)\n",
    "p2 = Pracownik('Jakub', 40, 187, 'M', 'Kierownik', 9000)"
   ]
  },
  {
   "cell_type": "code",
   "execution_count": 7,
   "id": "a73f80b7-10b3-49dc-a705-87c600b3e37f",
   "metadata": {},
   "outputs": [],
   "source": [
    "def srednia_wzrostu(lista_osob): \n",
    " return sum(osoba.wzrost for osoba in lista_osob) / len(lista_osob)"
   ]
  },
  {
   "cell_type": "code",
   "execution_count": 8,
   "id": "a7960d82-1129-434f-920f-c10cd4931e11",
   "metadata": {},
   "outputs": [
    {
     "data": {
      "text/plain": [
       "175.16666666666666"
      ]
     },
     "execution_count": 8,
     "metadata": {},
     "output_type": "execute_result"
    }
   ],
   "source": [
    "lista_osob = [o1,o2,s1,s2,p1,p2]\n",
    "srednia_wzrostu(lista_osob)"
   ]
  },
  {
   "cell_type": "code",
   "execution_count": null,
   "id": "ddc3ffa7-19a5-4a23-afce-d9de630c358a",
   "metadata": {},
   "outputs": [],
   "source": []
  },
  {
   "cell_type": "code",
   "execution_count": 9,
   "id": "61ab28f0-7b0e-4f21-9228-0993470e3e47",
   "metadata": {},
   "outputs": [],
   "source": [
    "# Zadanie 3: Polimorfizm – Zwierzęta\n",
    "# Stwórz klasę bazową Animal z metodą speak().\n",
    "# Utwórz klasy pochodne Dog i Cat, które nadpiszą metodę speak() i zwrócą odpowiednie dźwięki.\n",
    "# W pętli przejdź po liście obiektów (Dog, Cat) i wywołaj na nich metodę speak().\n",
    "\n",
    "class Animal: \n",
    "\n",
    "    def __init__(self, name):\n",
    "        self.name = name\n",
    "\n",
    "    def speak(self): \n",
    "        return \"Generic sound\" \n",
    "\n",
    "class Dog(Animal): \n",
    "    \n",
    "    def speak(self): \n",
    "        return \"{} says: WOOF!\".format(self.name)\n",
    "\n",
    "class Cat(Animal):  \n",
    "    \n",
    "    def speak(self): \n",
    "        return \" {} says: MIAOW\".format(self.name)\n"
   ]
  },
  {
   "cell_type": "code",
   "execution_count": 10,
   "id": "357923d4-7e9b-46cd-b93b-098b8eabfd7c",
   "metadata": {},
   "outputs": [],
   "source": [
    "animals = [Dog(\"Reksio\"), Dog(\"Burek\"), Cat(\"Mruczek\")]"
   ]
  },
  {
   "cell_type": "code",
   "execution_count": 11,
   "id": "0e61235e-f1b8-4159-9141-03f198aaf985",
   "metadata": {},
   "outputs": [
    {
     "name": "stdout",
     "output_type": "stream",
     "text": [
      "Reksio says: WOOF!\n",
      "Burek says: WOOF!\n",
      " Mruczek says: MIAOW\n"
     ]
    }
   ],
   "source": [
    "for i in animals: \n",
    "    print(i.speak())"
   ]
  },
  {
   "cell_type": "code",
   "execution_count": null,
   "id": "72874493-f8e6-4220-945c-fa9c2fd1bfe3",
   "metadata": {},
   "outputs": [],
   "source": []
  }
 ],
 "metadata": {
  "kernelspec": {
   "display_name": "Python 3 (ipykernel)",
   "language": "python",
   "name": "python3"
  },
  "language_info": {
   "codemirror_mode": {
    "name": "ipython",
    "version": 3
   },
   "file_extension": ".py",
   "mimetype": "text/x-python",
   "name": "python",
   "nbconvert_exporter": "python",
   "pygments_lexer": "ipython3",
   "version": "3.11.9"
  }
 },
 "nbformat": 4,
 "nbformat_minor": 5
}
