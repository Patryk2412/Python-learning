{
 "cells": [
  {
   "cell_type": "code",
   "execution_count": 1,
   "id": "6144d214-797f-49cc-a5a2-127468451364",
   "metadata": {},
   "outputs": [],
   "source": [
    "# 1. LESSER OF TWO EVENS: Write a function that returns the lesser of two given numbers if \n",
    "# both numbers are even, but returns the greater if one or both numbers are odd. If both numbers are\n",
    "# equal, return that number. \n",
    "\n",
    "def myfunc(a,b): \n",
    "    if a%2 == 0 and b%2 == 0: \n",
    "        if a < b: \n",
    "            return a\n",
    "        elif a > b: \n",
    "            return b\n",
    "        else: \n",
    "            return a\n",
    "        \n",
    "    elif a%2 != 0 or b%2 !=0:\n",
    "        if a>b: \n",
    "            return a\n",
    "        elif a<b: \n",
    "            return b\n",
    "        else: \n",
    "            return a"
   ]
  },
  {
   "cell_type": "code",
   "execution_count": null,
   "id": "3684d4ff-28ea-4ec4-a06e-76a36c54167e",
   "metadata": {},
   "outputs": [],
   "source": []
  },
  {
   "cell_type": "code",
   "execution_count": 2,
   "id": "4f945030-a062-4eb9-bacc-d8bb779567cd",
   "metadata": {},
   "outputs": [],
   "source": [
    "# 2. Write a function takes a two-word string and returns True if both words begin with same letter. \n",
    "# In the opposite case, return  false. \n",
    "\n",
    "def myfunc(mystring): \n",
    "    mystring_splited = mystring.split() \n",
    "\n",
    "    if mystring_splited[0][0]  == mystring_splited[1][0]:\n",
    "        return True\n",
    "    else: \n",
    "        return False"
   ]
  },
  {
   "cell_type": "code",
   "execution_count": null,
   "id": "665e842d-3ec4-4d37-b243-e4b9c12bfc2f",
   "metadata": {},
   "outputs": [],
   "source": []
  },
  {
   "cell_type": "code",
   "execution_count": 3,
   "id": "15a4a218-6b56-44cc-a982-9523032b2e41",
   "metadata": {},
   "outputs": [],
   "source": [
    "# 3. Given two integers, return True if the sum of the integers is 20 or if one of the integers is 20. If not, return False. \n",
    "\n",
    "def myfunc(a,b): \n",
    "    if a+b == 20 or a == 20 or b == 20: \n",
    "        return True\n",
    "    else: \n",
    "        return False"
   ]
  },
  {
   "cell_type": "code",
   "execution_count": null,
   "id": "528a93c6-b69b-4115-9528-c253ada36f8d",
   "metadata": {},
   "outputs": [],
   "source": []
  },
  {
   "cell_type": "code",
   "execution_count": 4,
   "id": "e7c1bbb4-5c0a-4403-9cc4-50ea18ce6daf",
   "metadata": {},
   "outputs": [
    {
     "data": {
      "text/plain": [
       "'KamIl'"
      ]
     },
     "execution_count": 4,
     "metadata": {},
     "output_type": "execute_result"
    }
   ],
   "source": [
    "# 4. Write a function that capitalizes the first and fourth letters of a name\n",
    "\n",
    "def myfunc(name): \n",
    "\n",
    "    first = name[0]\n",
    "    cap_first = first.upper()\n",
    "\n",
    "    two_and_three = name[1:3]\n",
    "\n",
    "    fourth = name[3]\n",
    "    cap_fourth = fourth.upper()\n",
    "\n",
    "    rest = name[4:] \n",
    "\n",
    "    return cap_first + two_and_three + cap_fourth + rest\n",
    "\n",
    "myfunc(\"kamil\")"
   ]
  },
  {
   "cell_type": "code",
   "execution_count": null,
   "id": "240a9a12-d74a-47bc-815e-a8cc0bb7388d",
   "metadata": {},
   "outputs": [],
   "source": []
  },
  {
   "cell_type": "code",
   "execution_count": 5,
   "id": "12446657-bad6-4180-a68b-c3dc919c23c9",
   "metadata": {},
   "outputs": [
    {
     "data": {
      "text/plain": [
       "'aktok am alO'"
      ]
     },
     "execution_count": 5,
     "metadata": {},
     "output_type": "execute_result"
    }
   ],
   "source": [
    "# 5. Given a sentence, return all the letters in this sentence. Use for loop. \n",
    "\n",
    "def myfunc(sentence): \n",
    "    sentence_reverse=''\n",
    "    length = len(sentence)-1\n",
    "\n",
    "    for letter in range(length,-1,-1):        # stop=-1, bo wartość stop jest wykluczana, więc 0 wykluczy ostatnią literę\n",
    "        sentence_reverse = sentence_reverse + sentence[letter]\n",
    "        \n",
    "    return sentence_reverse\n",
    "\n",
    "myfunc(\"Ola ma kotka\")\n",
    "    "
   ]
  },
  {
   "cell_type": "code",
   "execution_count": null,
   "id": "25436108-8634-4ab0-ae0b-563b1ff0c689",
   "metadata": {},
   "outputs": [],
   "source": []
  },
  {
   "cell_type": "code",
   "execution_count": 6,
   "id": "5dfbfa4d-e70b-4001-8e92-51b50504022e",
   "metadata": {},
   "outputs": [
    {
     "name": "stdout",
     "output_type": "stream",
     "text": [
      "kotka\n",
      "ma\n",
      "Ola\n"
     ]
    }
   ],
   "source": [
    "# 6. Given a sentence, return a sentence with the words reversed. \n",
    "\n",
    "def myfunc(sentence):  \n",
    "    sentence_splited = sentence.split()\n",
    "\n",
    "    for i in range(len(sentence_splited)-1,-1,-1):\n",
    "        print(sentence_splited[i])\n",
    "\n",
    "myfunc(\"Ola ma kotka\")"
   ]
  },
  {
   "cell_type": "code",
   "execution_count": null,
   "id": "c0495eca-d3b7-4e2b-ab04-e431616b1e7a",
   "metadata": {},
   "outputs": [],
   "source": []
  },
  {
   "cell_type": "code",
   "execution_count": null,
   "id": "18f75d94-da0e-4ddf-b43f-ebf2e416ec17",
   "metadata": {},
   "outputs": [],
   "source": []
  },
  {
   "cell_type": "code",
   "execution_count": 8,
   "id": "67887926-18b7-40ab-a1bd-cb3c5724d74f",
   "metadata": {},
   "outputs": [
    {
     "name": "stdin",
     "output_type": "stream",
     "text": [
      "Podaj liczbę a:  3\n",
      "Podaj liczbę b:  4\n"
     ]
    },
    {
     "name": "stdout",
     "output_type": "stream",
     "text": [
      "3^3+4^3=\n"
     ]
    },
    {
     "data": {
      "text/plain": [
       "91"
      ]
     },
     "execution_count": 8,
     "metadata": {},
     "output_type": "execute_result"
    }
   ],
   "source": [
    "# 7. Napisz funkcję, która przyjmuje dwa argumenty typu całkowitego i zwraca jako rezultat wartość \n",
    "# typu całkowitego, która jest sumą sześcianów podanych liczb. W funkcji main() przetestuj działanie \n",
    "# stworzonej funkcji. \n",
    "\n",
    "a = int(input(\"Podaj liczbę a: \"))\n",
    "b = int(input(\"Podaj liczbę b: \"))\n",
    "\n",
    "def func(a, b):\n",
    "    return a**3 + b**3 \n",
    "\n",
    "print(\"{}^3+{}^3=\".format(a,b))\n",
    "\n",
    "func(a,b)"
   ]
  },
  {
   "cell_type": "code",
   "execution_count": null,
   "id": "4768b9f6-2c3a-4bd0-a872-e21517ce421f",
   "metadata": {},
   "outputs": [],
   "source": []
  },
  {
   "cell_type": "code",
   "execution_count": null,
   "id": "c8ec5420-39fa-44bc-9673-083b769cdfe1",
   "metadata": {},
   "outputs": [],
   "source": []
  }
 ],
 "metadata": {
  "kernelspec": {
   "display_name": "Python 3 (ipykernel)",
   "language": "python",
   "name": "python3"
  },
  "language_info": {
   "codemirror_mode": {
    "name": "ipython",
    "version": 3
   },
   "file_extension": ".py",
   "mimetype": "text/x-python",
   "name": "python",
   "nbconvert_exporter": "python",
   "pygments_lexer": "ipython3",
   "version": "3.11.9"
  }
 },
 "nbformat": 4,
 "nbformat_minor": 5
}
